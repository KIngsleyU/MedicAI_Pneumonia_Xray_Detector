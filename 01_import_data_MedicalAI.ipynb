{
 "cells": [
  {
   "cell_type": "code",
   "execution_count": 1,
   "id": "7da25542-cebd-42f1-a5e2-83bc9da2db11",
   "metadata": {},
   "outputs": [],
   "source": [
    "import json\n",
    "import zipfile"
   ]
  },
  {
   "cell_type": "code",
   "execution_count": 2,
   "id": "f5e540b0-d187-4740-814e-e70e69b23ef0",
   "metadata": {},
   "outputs": [
    {
     "name": "stdout",
     "output_type": "stream",
     "text": [
      "Collecting kaggle\n",
      "  Using cached kaggle-1.6.14-py3-none-any.whl\n",
      "Requirement already satisfied: six>=1.10 in /opt/conda/lib/python3.10/site-packages (from kaggle) (1.16.0)\n",
      "Requirement already satisfied: certifi>=2023.7.22 in /opt/conda/lib/python3.10/site-packages (from kaggle) (2024.2.2)\n",
      "Requirement already satisfied: python-dateutil in /opt/conda/lib/python3.10/site-packages (from kaggle) (2.9.0)\n",
      "Requirement already satisfied: requests in /opt/conda/lib/python3.10/site-packages (from kaggle) (2.31.0)\n",
      "Requirement already satisfied: tqdm in /opt/conda/lib/python3.10/site-packages (from kaggle) (4.66.2)\n",
      "Requirement already satisfied: python-slugify in /opt/conda/lib/python3.10/site-packages (from kaggle) (8.0.4)\n",
      "Requirement already satisfied: urllib3 in /opt/conda/lib/python3.10/site-packages (from kaggle) (1.26.18)\n",
      "Requirement already satisfied: bleach in /opt/conda/lib/python3.10/site-packages (from kaggle) (6.1.0)\n",
      "Requirement already satisfied: webencodings in /opt/conda/lib/python3.10/site-packages (from bleach->kaggle) (0.5.1)\n",
      "Requirement already satisfied: text-unidecode>=1.3 in /opt/conda/lib/python3.10/site-packages (from python-slugify->kaggle) (1.3)\n",
      "Requirement already satisfied: charset-normalizer<4,>=2 in /opt/conda/lib/python3.10/site-packages (from requests->kaggle) (3.3.2)\n",
      "Requirement already satisfied: idna<4,>=2.5 in /opt/conda/lib/python3.10/site-packages (from requests->kaggle) (3.6)\n",
      "Installing collected packages: kaggle\n",
      "Successfully installed kaggle-1.6.14\n"
     ]
    }
   ],
   "source": [
    "!pip install kaggle"
   ]
  },
  {
   "cell_type": "code",
   "execution_count": 3,
   "id": "a2243fd4-5940-4071-b573-8f26442b3a37",
   "metadata": {},
   "outputs": [
    {
     "name": "stdout",
     "output_type": "stream",
     "text": [
      "mkdir: cannot create directory ‘/home/sagemaker-user/.kaggle’: File exists\n"
     ]
    }
   ],
   "source": [
    "!mkdir ~/.kaggle"
   ]
  },
  {
   "cell_type": "code",
   "execution_count": 4,
   "id": "8246f611-9edd-41c2-a148-483e7ec19cbd",
   "metadata": {},
   "outputs": [],
   "source": [
    "!touch ~/.kaggle/kaggle.json"
   ]
  },
  {
   "cell_type": "code",
   "execution_count": 5,
   "id": "a3f02b33-10b4-4c9c-9591-42d33ee9339e",
   "metadata": {},
   "outputs": [
    {
     "name": "stdout",
     "output_type": "stream",
     "text": [
      "01_import_data_MedicalAI.ipynb\n",
      "02_01_eda_preprocessing_MedicalAI.ipynb\n",
      "03_02_eda_preprocessing_MedicalAI.ipynb\n",
      "04_save_to_s3_bucket.ipynb\n",
      "Augmentation_and_save_to_s3.py\n",
      "chest-xray-pneumonia.zip\n",
      "deployment.ipynb\n",
      "test.lst\n",
      "train.lst\n",
      "training_and_hyperparameter_tuning.ipynb\n",
      "val.lst\n"
     ]
    }
   ],
   "source": [
    "!ls"
   ]
  },
  {
   "cell_type": "code",
   "execution_count": 6,
   "id": "7b271f6d-db9c-4522-9997-fd96132e253a",
   "metadata": {},
   "outputs": [],
   "source": [
    "api_token = {\"username\": \"famhfamh\", \n",
    "             \"key\": \"6e9f364a17b9419a78b112995d67bad1\"}"
   ]
  },
  {
   "cell_type": "code",
   "execution_count": 7,
   "id": "c6e55a3b-fce9-44e1-8cfb-d7e7a63be2fd",
   "metadata": {},
   "outputs": [],
   "source": [
    "with open('/home/sagemaker-user/.kaggle/kaggle.json', 'w') as file:\n",
    "    json.dump(api_token, file)"
   ]
  },
  {
   "cell_type": "code",
   "execution_count": 8,
   "id": "5eabae55-71f0-4a0b-ac83-6fefda556ad0",
   "metadata": {},
   "outputs": [],
   "source": [
    "!chmod 600 ~/.kaggle/kaggle.json"
   ]
  },
  {
   "cell_type": "code",
   "execution_count": 9,
   "id": "a5f02a65-30ba-4fdd-bf59-e3be8e1d0e3b",
   "metadata": {},
   "outputs": [
    {
     "name": "stdout",
     "output_type": "stream",
     "text": [
      "Dataset URL: https://www.kaggle.com/datasets/paultimothymooney/chest-xray-pneumonia\n",
      "License(s): other\n",
      "Downloading chest-xray-pneumonia.zip to /home/sagemaker-user\n",
      " 99%|██████████████████████████████████████▌| 2.27G/2.29G [00:10<00:00, 235MB/s]\n",
      "100%|███████████████████████████████████████| 2.29G/2.29G [00:10<00:00, 224MB/s]\n"
     ]
    }
   ],
   "source": [
    "!kaggle datasets download -d paultimothymooney/chest-xray-pneumonia --force"
   ]
  },
  {
   "cell_type": "code",
   "execution_count": 10,
   "id": "7e9eada8-0cf0-406c-bc50-85a5aa6dd6c1",
   "metadata": {},
   "outputs": [],
   "source": [
    "with zipfile.ZipFile(\"./chest-xray-pneumonia.zip\", \"r\") as zip_ref:\n",
    "    zip_ref.extractall(\"./data\")"
   ]
  },
  {
   "cell_type": "code",
   "execution_count": 11,
   "id": "9b2ee427-b92d-4da0-b0db-69d3e10c30de",
   "metadata": {},
   "outputs": [
    {
     "name": "stdout",
     "output_type": "stream",
     "text": [
      "01_import_data_MedicalAI.ipynb\n",
      "02_01_eda_preprocessing_MedicalAI.ipynb\n",
      "03_02_eda_preprocessing_MedicalAI.ipynb\n",
      "04_save_to_s3_bucket.ipynb\n",
      "Augmentation_and_save_to_s3.py\n",
      "chest-xray-pneumonia.zip\n",
      "\u001b[0m\u001b[01;34mdata\u001b[0m/\n",
      "deployment.ipynb\n",
      "test.lst\n",
      "train.lst\n",
      "training_and_hyperparameter_tuning.ipynb\n",
      "val.lst\n"
     ]
    }
   ],
   "source": [
    "ls"
   ]
  },
  {
   "cell_type": "code",
   "execution_count": null,
   "id": "8593017f-f257-4151-b63a-d2543f9783da",
   "metadata": {},
   "outputs": [],
   "source": []
  }
 ],
 "metadata": {
  "kernelspec": {
   "display_name": "Python 3 (ipykernel)",
   "language": "python",
   "name": "python3"
  },
  "language_info": {
   "codemirror_mode": {
    "name": "ipython",
    "version": 3
   },
   "file_extension": ".py",
   "mimetype": "text/x-python",
   "name": "python",
   "nbconvert_exporter": "python",
   "pygments_lexer": "ipython3",
   "version": "3.10.14"
  }
 },
 "nbformat": 4,
 "nbformat_minor": 5
}
