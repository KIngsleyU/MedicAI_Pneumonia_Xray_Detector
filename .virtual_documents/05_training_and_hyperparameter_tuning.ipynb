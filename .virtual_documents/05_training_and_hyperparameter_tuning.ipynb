import sagemaker
from sagemaker import image_uris, get_execution_role
from sagemaker.tuner import CategoricalParameter, ContinuousParameter, HyperparameterTuner, IntegerParameter
from sagemaker.session import TrainingInput
import boto3
import glob
import time


bucket = "medical--ai-chest-xray"
region = "us-east-1"
role_arn = "arn:aws:s3:::medical--ai-chest-xray"



"""
Creating a SageMaker session object. 
This is a high-level interface for interacting with SageMaker resources.
"""
sess = sagemaker.Session()

"""
Retrieving the URI for the SageMaker built-in image classification algorithm container.
'region' specifies the AWS region (obtained from the current boto3 session),
and 'framework' specifies the built-in algorithm name ("image-classification").
"""
algorithm_image = image_uris.retrieve(region=boto3.Session().region_name,
                                      framework="image-classification")

"""
Defining the S3 location where the trained model artifacts will be stored.
'bucket' should be replaced with the name of your S3 bucket.
"""
s3_output_location = f"s3://{bucket}/models/image_model"

"""
Output the algorithm image URI
"""
algorithm_image


"""
Retrieve the execution role
This function call retrieves the IAM role associated with the SageMaker notebook instance,
which is necessary for SageMaker to access AWS resources on your behalf.
"""
role = get_execution_role()
role


img_classifier_model = sagemaker.estimator.Estimator(
    algorithm_image,          # The URI of the Docker image for the SageMaker 
                              # built-in image classification algorithm. 
                              # Required to specify which algorithm to use. 

    role=role,                # The IAM role that SageMaker uses to access AWS 
                              # resources. Required for SageMaker to have 
                              # the necessary permissions.
    
    instance_count=1,         # The number of EC2 instances to use for training. 
                              # For simple tasks, 1 instance is usually sufficient.
    
    instance_type="ml.p3.2xlarge", # The type of EC2 instance to use for training. 
                                  # 'ml.p2.xlarge' provides GPU support, which is 
                                  # beneficial for compute-intensive tasks like 
                                  # image classification.
    
    volume_size=60,           # The size (in GB) of the EBS volume to attach to 
                              # the instances. Determines the storage space for 
                              # training data and model artifacts.
    
    max_run=432000,          # The maximum allowed runtime for the training job 
                              # (in seconds). Helps prevent runaway jobs that 
                              # exceed expected training times.
    
    input_mode="File",        # The input mode for the training data. 'File' mode 
                              # reads data from an S3 bucket. Suitable for large 
                              # datasets stored in S3.
    
    output_path=s3_output_location, # The S3 path where the trained model artifacts 
                                    # will be stored. Ensures that the output model 
                                    # is saved and accessible for future use.
    
    sagemaker_session=sess    # The SageMaker session object that manages 
                              # interactions with SageMaker. Required to link the 
                              # Estimator with the current SageMaker session.
)
img_classifier_model


count = len(glob.glob("data/chest_xray/train/*.jpeg"))
count=5216


# Set hyperparameters for the image classification model
img_classifier_model.set_hyperparameters(
    image_shape="3,224,224",            # Specifies the input image dimensions. 
                                        # '3' refers to the number of color channels (RGB), 
                                        # '224,224' are the height and width in pixels.
    
    num_classes=2,                      # The number of classes in the classification problem. 
                                        # Adjust this according to your specific use case.
    
    use_pretrained_model=1,             # Use a pre-trained model to start training. 
                                        # '1' means True, which can speed up training and 
                                        # improve accuracy.
    
    num_training_samples=count,         # The total number of training samples. 
                                        # 'count' should be defined with the actual number of samples.

    augmentation_type="crop_color_transform",  # cropping: Randomly cropping 
                                                    # images can help the model 
                                                    # learn to focus on different parts of the image
                                                    # crop and resize back to required size
                                                    # Adjusting the brightness, contrast, 
                                                    # saturation, and hue of images helps 
                                                    # the model become robust to changes 
                                                    # in lighting conditions and 
                                                    # color variations. How: Apply 
                                                    # random adjustments to the color 
                                                    # properties of the image.
    
    
    epochs=45,                          # The number of complete passes through the training dataset. 
                                        # More epochs can lead to better accuracy, up to a certain point.
    
    early_stopping=True,                # Enable early stopping to prevent overfitting. 
                                        # Training stops when performance on a validation set 
                                        # stops improving.
    
    early_stopping_min_epochs=15,        # The minimum number of epochs to run before considering 
                                        # early stopping.
    
    early_stopping_patience=5,          # The number of epochs with no improvement after which 
                                        # training will be stopped. A patience of 5 means 
                                        # training will stop if there is no improvement for 5 epochs.
    
    early_stopping_tolerance=0.0,       # The threshold for considering an improvement in performance. 
                                        # A tolerance of 0.0 means any improvement is considered.
    
    lr_scheduler_factor=0.1,            # Factor by which the learning rate will be reduced. 
                                        # '0.1' means the learning rate is multiplied by 0.1.
    
    lr_scheduler_step='15,20,30'         # Epochs at which the learning rate will be reduced. 
                                        # Specifies a schedule for when to reduce the learning rate.
)


hyperparameter_ranges = {
    "learning_rate": ContinuousParameter(0.001, 0.1),
    "mini_batch_size": CategoricalParameter([8, 16, 32]),
    "optimizer": CategoricalParameter(["sgd", "adam"]),
    'weight_decay': ContinuousParameter(1e-5, 1e-3)
}



img_classifier_model.set_hyperparameters(
    image_shape="3,224,224",
    num_classes=2,
    use_pretrained_model=1,
    num_training_samples=count,
    augmentation_type="crop_color_transform",
    epochs=50,  # Increase epochs for more training opportunities
    early_stopping=True,
    early_stopping_min_epochs=20,
    early_stopping_patience=5,
    early_stopping_tolerance=0.0,
    lr_scheduler_factor=0.1,
    lr_scheduler_step='20,30,40',  # Adjusted learning rate schedule
    weight_decay=0.0001,  # Stronger weight decay
    learning_rate=0.1  # Lower initial learning rate
)

hyperparameter_ranges = {
    "learning_rate": ContinuousParameter(0.00001, 0.1),
    "mini_batch_size": IntegerParameter(15, 55),
    "optimizer": CategoricalParameter(["sgd", "adam", "rmsprop"]),
    "weight_decay": ContinuousParameter(1e-6, 1e-2),
    "momentum": ContinuousParameter(0.5, 0.99),
    "beta_1": ContinuousParameter(0.8, 0.999),  # For Adam optimizer
    "beta_2": ContinuousParameter(0.9, 0.999),  # For Adam optimizer
    "eps": ContinuousParameter(1e-8, 1e-6)     # For Adam and RMSprop optimizers
}



# Initialize the HyperparameterTuner object
tuner = HyperparameterTuner(
    estimator=img_classifier_model,             # The SageMaker Estimator object to be tuned.
    
    objective_metric_name="validation:accuracy",# The metric used to evaluate the model's performance.
                                                # Here, we aim to maximize the validation accuracy.
    
    hyperparameter_ranges=hyperparameter_ranges,# The range of hyperparameters to search.
                                                # 'hyperparameter_ranges' should be a dictionary 
                                                # defining the parameters and their ranges.
    
    objective_type="Maximize",                  # The type of objective metric.
                                                # "Maximize" means we aim to maximize the validation accuracy.
    
    max_jobs=12,                                 # The total number of hyperparameter tuning jobs to run.
                                                # This limits the number of different hyperparameter combinations to try.
    
    max_parallel_jobs=1,                         # The maximum number of parallel training jobs.
                                                # Limits how many training jobs can run at the same time.
    strategy='Bayesian'
)



# Define the input data configuration for the training job
model_input = {
    "train": sagemaker.inputs.TrainingInput(
        s3_data=f"s3://{bucket}/train",    #  S3 URI for the training data
        content_type="application/x-image"   #   Content type for the validation dat
    ),
    "validation": sagemaker.inputs.TrainingInput(
        s3_data=f"s3://{bucket}/test",
        content_type="application/x-image"
    ),
    "train_lst": sagemaker.inputs.TrainingInput(
        s3_data=f"s3://{bucket}/train.lst",
        content_type="application/x-image"
    ),
    "validation_lst": sagemaker.inputs.TrainingInput(
        s3_data=f"s3://{bucket}/test.lst",
        content_type="application/x-image"
    )
}


job_name_prefix= "classifier"
timestamp = time.strftime("-%Y-%m-%d-%H-%M-%S",
                          time.gmtime())
job_name = job_name_prefix+timestamp


tuner.fit(inputs=model_input, 
         job_name=job_name,
         log=True)


s3://medical--ai-chest-xray/test.lst
