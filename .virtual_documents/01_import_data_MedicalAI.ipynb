import json
import zipfile


get_ipython().getoutput("pip install kaggle")


get_ipython().getoutput("mkdir ~/.kaggle")


get_ipython().getoutput("touch ~/.kaggle/kaggle.json")


get_ipython().getoutput("ls")


api_token = {"username": "famhfamh", 
             "key": "6e9f364a17b9419a78b112995d67bad1"}


with open('/home/sagemaker-user/.kaggle/kaggle.json', 'w') as file:
    json.dump(api_token, file)


get_ipython().getoutput("chmod 600 ~/.kaggle/kaggle.json")


get_ipython().getoutput("kaggle datasets download -d paultimothymooney/chest-xray-pneumonia --force")


with zipfile.ZipFile("./chest-xray-pneumonia.zip", "r") as zip_ref:
    zip_ref.extractall("./data")


ls



