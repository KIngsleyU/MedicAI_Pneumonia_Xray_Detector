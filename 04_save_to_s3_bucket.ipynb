{
 "cells": [
  {
   "cell_type": "code",
   "execution_count": 8,
   "id": "a4406465-a177-4dd3-83cd-ce4d3c0842a9",
   "metadata": {},
   "outputs": [],
   "source": [
    "import os\n",
    "import boto3"
   ]
  },
  {
   "cell_type": "code",
   "execution_count": 9,
   "id": "0874cfcd-d5c6-4e22-ac28-87407a1e8e8f",
   "metadata": {},
   "outputs": [],
   "source": [
    "bucket = \"medical--ai-chest-xray\" \n",
    "region = \"us-east-1\"\n",
    "role_arn = \"arn:aws:s3:::medical--ai-chest-xray\""
   ]
  },
  {
   "cell_type": "code",
   "execution_count": 10,
   "id": "3676a058-0e6d-4be8-be99-da1db7e7af94",
   "metadata": {},
   "outputs": [],
   "source": [
    "os.environ[\"DEFAULT_S3_BUCKET\"] = bucket"
   ]
  },
  {
   "cell_type": "code",
   "execution_count": 11,
   "id": "177be5a5-6e32-4b2c-844b-6614b580a159",
   "metadata": {
    "scrolled": true
   },
   "outputs": [],
   "source": [
    "!aws s3 sync ./data/chest_xray/train/ s3://${DEFAULT_S3_BUCKET}/train/"
   ]
  },
  {
   "cell_type": "code",
   "execution_count": 12,
   "id": "aef44abf-4178-4ee3-9e51-09c850f495f8",
   "metadata": {
    "scrolled": true
   },
   "outputs": [],
   "source": [
    "!aws s3 sync data/chest_xray/test s3://${DEFAULT_S3_BUCKET}/test"
   ]
  },
  {
   "cell_type": "code",
   "execution_count": 13,
   "id": "44651088-1b8b-469c-a113-043c77ee5302",
   "metadata": {},
   "outputs": [],
   "source": [
    "boto3.Session().resource(\"s3\").Bucket(bucket).Object(\"train.lst\").upload_file(\"train.lst\")\n"
   ]
  },
  {
   "cell_type": "code",
   "execution_count": 14,
   "id": "233f0f8c-5937-4440-a50c-ce8f094ed8fb",
   "metadata": {},
   "outputs": [],
   "source": [
    "boto3.Session().resource(\"s3\").Bucket(bucket).Object(\"test.lst\").upload_file(\"test.lst\")\n"
   ]
  },
  {
   "cell_type": "code",
   "execution_count": null,
   "id": "16415472-93da-42cd-a511-636e82025348",
   "metadata": {},
   "outputs": [],
   "source": []
  }
 ],
 "metadata": {
  "kernelspec": {
   "display_name": "Python 3 (ipykernel)",
   "language": "python",
   "name": "python3"
  },
  "language_info": {
   "codemirror_mode": {
    "name": "ipython",
    "version": 3
   },
   "file_extension": ".py",
   "mimetype": "text/x-python",
   "name": "python",
   "nbconvert_exporter": "python",
   "pygments_lexer": "ipython3",
   "version": "3.10.14"
  }
 },
 "nbformat": 4,
 "nbformat_minor": 5
}
